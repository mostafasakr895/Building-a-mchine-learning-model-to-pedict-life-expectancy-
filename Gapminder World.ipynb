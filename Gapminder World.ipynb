{
 "cells": [
  {
   "cell_type": "markdown",
   "metadata": {},
   "source": [
    "\n",
    "# Project: Investigate a Dataset (Gapminder World)\n",
    "\n",
    "## Table of Contents\n",
    "<ul>\n",
    "<li><a href=\"#intro\">Introduction</a></li>\n",
    "<li><a href=\"#wrangling\">Data Wrangling</a></li>\n",
    "<li><a href=\"#eda\">Exploratory Data Analysis</a></li>\n",
    "<li><a href=\"#conclusions\">Conclusions</a></li>\n",
    "<li><a href=\"#References\">References</a></li>\n",
    "</ul>\n",
    "\n",
    "<a id='intro'></a>\n",
    "## Introduction\n",
    "\n",
    ">Gapminder has collected a lot of information about how people live heir lives in different countries, racked across the years, and on a umber of different indicators. For this project I selected child mortality, income, life expectancy, and population indicators.  \n",
    ">\n",
    ">I am going to clean and merge these indicators into one DataFrame then going deep analyzing It tracking the relations between different indicators trying to get insights to make decisions that should make our life better.\n",
    ">\n",
    ">Questions to be answered:\n",
    ">\n",
    ">Have certain regions of the world been growing in selected indicators better than others?\n",
    ">\n",
    ">Is child mortality related to any other indicators?\n",
    ">\n",
    ">Is life expectancy child mortality related to any other indicators?\n",
    ">\n",
    ">Is Income related to population?"
   ]
  },
  {
   "cell_type": "markdown",
   "metadata": {},
   "source": [
    "<a id='wrangling'></a>\n",
    "## Data Wrangling\n",
    "\n",
    "### Asessing and cleaning Data"
   ]
  },
  {
   "cell_type": "code",
   "execution_count": 73,
   "metadata": {
    "scrolled": false
   },
   "outputs": [
    {
     "name": "stdout",
     "output_type": "stream",
     "text": [
      "<class 'pandas.core.frame.DataFrame'>\n",
      "RangeIndex: 195 entries, 0 to 194\n",
      "Columns: 302 entries, country to 2100\n",
      "dtypes: float64(301), object(1)\n",
      "memory usage: 460.2+ KB\n"
     ]
    }
   ],
   "source": [
    "# Importing packages\n",
    "import numpy as np\n",
    "import pandas as pd\n",
    "import matplotlib.pyplot as plt\n",
    "%matplotlib inline\n",
    "import seaborn as sns\n",
    "import datetime as dt\n",
    "sns.set_style('darkgrid')\n",
    "\n",
    "# Loading data and printing out a few lines. \n",
    "df1 = pd.read_csv('child_mortality_0_5_year_olds_dying_per_1000_born.csv')\n",
    "df2 = pd.read_csv('income_per_person_gdppercapita_ppp_inflation_adjusted (1).csv')\n",
    "df3 = pd.read_csv('life_expectancy_years (1).csv')\n",
    "df4 = pd.read_csv('population_total.csv')\n",
    "df1.info()"
   ]
  },
  {
   "cell_type": "code",
   "execution_count": 74,
   "metadata": {},
   "outputs": [],
   "source": [
    "# Transposing year rows and renaming the value columns \n",
    "data_files = [df1, df2, df3, df4]\n",
    "names = ['child_mortality','income','life_expectancy','population']\n",
    "i = 0 \n",
    "names = ['child_mortality','income','life_expectancy','population']\n",
    "for df in data_files: \n",
    "    df = df.melt(['country'], var_name='year')\n",
    "    df = df.rename(columns = {'value': names[i]}, inplace = False)\n",
    "    data_files[i] = df\n",
    "    i += 1\n",
    "df1, df2, df3, df4 = data_files"
   ]
  },
  {
   "cell_type": "code",
   "execution_count": 75,
   "metadata": {
    "scrolled": true
   },
   "outputs": [
    {
     "data": {
      "text/html": [
       "<div>\n",
       "<style scoped>\n",
       "    .dataframe tbody tr th:only-of-type {\n",
       "        vertical-align: middle;\n",
       "    }\n",
       "\n",
       "    .dataframe tbody tr th {\n",
       "        vertical-align: top;\n",
       "    }\n",
       "\n",
       "    .dataframe thead th {\n",
       "        text-align: right;\n",
       "    }\n",
       "</style>\n",
       "<table border=\"1\" class=\"dataframe\">\n",
       "  <thead>\n",
       "    <tr style=\"text-align: right;\">\n",
       "      <th></th>\n",
       "      <th>country</th>\n",
       "      <th>year</th>\n",
       "      <th>child_mortality</th>\n",
       "    </tr>\n",
       "  </thead>\n",
       "  <tbody>\n",
       "    <tr>\n",
       "      <th>0</th>\n",
       "      <td>Afghanistan</td>\n",
       "      <td>1800</td>\n",
       "      <td>469.0</td>\n",
       "    </tr>\n",
       "    <tr>\n",
       "      <th>1</th>\n",
       "      <td>Albania</td>\n",
       "      <td>1800</td>\n",
       "      <td>375.0</td>\n",
       "    </tr>\n",
       "    <tr>\n",
       "      <th>2</th>\n",
       "      <td>Algeria</td>\n",
       "      <td>1800</td>\n",
       "      <td>460.0</td>\n",
       "    </tr>\n",
       "    <tr>\n",
       "      <th>3</th>\n",
       "      <td>Andorra</td>\n",
       "      <td>1800</td>\n",
       "      <td>NaN</td>\n",
       "    </tr>\n",
       "    <tr>\n",
       "      <th>4</th>\n",
       "      <td>Angola</td>\n",
       "      <td>1800</td>\n",
       "      <td>486.0</td>\n",
       "    </tr>\n",
       "  </tbody>\n",
       "</table>\n",
       "</div>"
      ],
      "text/plain": [
       "       country  year  child_mortality\n",
       "0  Afghanistan  1800            469.0\n",
       "1      Albania  1800            375.0\n",
       "2      Algeria  1800            460.0\n",
       "3      Andorra  1800              NaN\n",
       "4       Angola  1800            486.0"
      ]
     },
     "execution_count": 75,
     "metadata": {},
     "output_type": "execute_result"
    }
   ],
   "source": [
    "df1.head() # Checking"
   ]
  },
  {
   "cell_type": "code",
   "execution_count": 76,
   "metadata": {},
   "outputs": [],
   "source": [
    "# Merging data files in one data file\n",
    "dfm1= pd.merge(df1,df2,on=['year', 'country'], how= 'left')\n",
    "dfm2 = pd.merge(dfm1,df3,on=['year', 'country'], how= 'left')\n",
    "df = pd.merge(dfm2,df4,on=['year', 'country'], how= 'left')"
   ]
  },
  {
   "cell_type": "code",
   "execution_count": 77,
   "metadata": {},
   "outputs": [
    {
     "data": {
      "text/html": [
       "<div>\n",
       "<style scoped>\n",
       "    .dataframe tbody tr th:only-of-type {\n",
       "        vertical-align: middle;\n",
       "    }\n",
       "\n",
       "    .dataframe tbody tr th {\n",
       "        vertical-align: top;\n",
       "    }\n",
       "\n",
       "    .dataframe thead th {\n",
       "        text-align: right;\n",
       "    }\n",
       "</style>\n",
       "<table border=\"1\" class=\"dataframe\">\n",
       "  <thead>\n",
       "    <tr style=\"text-align: right;\">\n",
       "      <th></th>\n",
       "      <th>country</th>\n",
       "      <th>year</th>\n",
       "      <th>child_mortality</th>\n",
       "      <th>income</th>\n",
       "      <th>life_expectancy</th>\n",
       "      <th>population</th>\n",
       "    </tr>\n",
       "  </thead>\n",
       "  <tbody>\n",
       "    <tr>\n",
       "      <th>0</th>\n",
       "      <td>Afghanistan</td>\n",
       "      <td>1800</td>\n",
       "      <td>469.0</td>\n",
       "      <td>603.0</td>\n",
       "      <td>28.2</td>\n",
       "      <td>3280000</td>\n",
       "    </tr>\n",
       "    <tr>\n",
       "      <th>1</th>\n",
       "      <td>Albania</td>\n",
       "      <td>1800</td>\n",
       "      <td>375.0</td>\n",
       "      <td>667.0</td>\n",
       "      <td>35.4</td>\n",
       "      <td>400000</td>\n",
       "    </tr>\n",
       "    <tr>\n",
       "      <th>2</th>\n",
       "      <td>Algeria</td>\n",
       "      <td>1800</td>\n",
       "      <td>460.0</td>\n",
       "      <td>715.0</td>\n",
       "      <td>28.8</td>\n",
       "      <td>2500000</td>\n",
       "    </tr>\n",
       "    <tr>\n",
       "      <th>3</th>\n",
       "      <td>Andorra</td>\n",
       "      <td>1800</td>\n",
       "      <td>NaN</td>\n",
       "      <td>1200.0</td>\n",
       "      <td>NaN</td>\n",
       "      <td>2650</td>\n",
       "    </tr>\n",
       "    <tr>\n",
       "      <th>4</th>\n",
       "      <td>Angola</td>\n",
       "      <td>1800</td>\n",
       "      <td>486.0</td>\n",
       "      <td>618.0</td>\n",
       "      <td>27.0</td>\n",
       "      <td>1570000</td>\n",
       "    </tr>\n",
       "  </tbody>\n",
       "</table>\n",
       "</div>"
      ],
      "text/plain": [
       "       country  year  child_mortality  income  life_expectancy  population\n",
       "0  Afghanistan  1800            469.0   603.0             28.2     3280000\n",
       "1      Albania  1800            375.0   667.0             35.4      400000\n",
       "2      Algeria  1800            460.0   715.0             28.8     2500000\n",
       "3      Andorra  1800              NaN  1200.0              NaN        2650\n",
       "4       Angola  1800            486.0   618.0             27.0     1570000"
      ]
     },
     "execution_count": 77,
     "metadata": {},
     "output_type": "execute_result"
    }
   ],
   "source": [
    "df.head() #checking"
   ]
  },
  {
   "cell_type": "code",
   "execution_count": 78,
   "metadata": {},
   "outputs": [
    {
     "name": "stdout",
     "output_type": "stream",
     "text": [
      "<class 'pandas.core.frame.DataFrame'>\n",
      "Int64Index: 58695 entries, 0 to 58694\n",
      "Data columns (total 6 columns):\n",
      " #   Column           Non-Null Count  Dtype  \n",
      "---  ------           --------------  -----  \n",
      " 0   country          58695 non-null  object \n",
      " 1   year             58695 non-null  object \n",
      " 2   child_mortality  57045 non-null  float64\n",
      " 3   income           46513 non-null  float64\n",
      " 4   life_expectancy  55528 non-null  float64\n",
      " 5   population       58695 non-null  int64  \n",
      "dtypes: float64(3), int64(1), object(2)\n",
      "memory usage: 3.1+ MB\n"
     ]
    }
   ],
   "source": [
    "# Getting the dataset information  \n",
    "df.info()"
   ]
  },
  {
   "cell_type": "markdown",
   "metadata": {},
   "source": [
    "Data has 58695  rows and 4 columns, child mortality represnets dead childs below age 5 per 1.000 births so it should be converted into intg. "
   ]
  },
  {
   "cell_type": "code",
   "execution_count": 79,
   "metadata": {},
   "outputs": [
    {
     "data": {
      "text/plain": [
       "country                0\n",
       "year                   0\n",
       "child_mortality     1650\n",
       "income             12182\n",
       "life_expectancy     3167\n",
       "population             0\n",
       "dtype: int64"
      ]
     },
     "execution_count": 79,
     "metadata": {},
     "output_type": "execute_result"
    }
   ],
   "source": [
    "# Checking for null values and duplicates\n",
    "df.isnull().sum()"
   ]
  },
  {
   "cell_type": "markdown",
   "metadata": {},
   "source": [
    "Data has alot of null values that shouldn't be dropped because number of countries will be decreased from 195 to 187! It is better to fill nun values with zeros."
   ]
  },
  {
   "cell_type": "code",
   "execution_count": 80,
   "metadata": {},
   "outputs": [],
   "source": [
    "# Dealing with null values \n",
    "df.fillna(0, inplace= True)"
   ]
  },
  {
   "cell_type": "code",
   "execution_count": 81,
   "metadata": {
    "scrolled": true
   },
   "outputs": [
    {
     "data": {
      "text/plain": [
       "country            0\n",
       "year               0\n",
       "child_mortality    0\n",
       "income             0\n",
       "life_expectancy    0\n",
       "population         0\n",
       "dtype: int64"
      ]
     },
     "execution_count": 81,
     "metadata": {},
     "output_type": "execute_result"
    }
   ],
   "source": [
    "# Checking\n",
    "df.isnull().sum()"
   ]
  },
  {
   "cell_type": "code",
   "execution_count": 82,
   "metadata": {},
   "outputs": [],
   "source": [
    "# Changing the type of the child mortality column data into intg\n",
    "df.child_mortality=df.child_mortality.astype(int)"
   ]
  },
  {
   "cell_type": "code",
   "execution_count": 83,
   "metadata": {},
   "outputs": [
    {
     "name": "stdout",
     "output_type": "stream",
     "text": [
      "<class 'pandas.core.frame.DataFrame'>\n",
      "Int64Index: 58695 entries, 0 to 58694\n",
      "Data columns (total 6 columns):\n",
      " #   Column           Non-Null Count  Dtype  \n",
      "---  ------           --------------  -----  \n",
      " 0   country          58695 non-null  object \n",
      " 1   year             58695 non-null  object \n",
      " 2   child_mortality  58695 non-null  int32  \n",
      " 3   income           58695 non-null  float64\n",
      " 4   life_expectancy  58695 non-null  float64\n",
      " 5   population       58695 non-null  int64  \n",
      "dtypes: float64(2), int32(1), int64(1), object(2)\n",
      "memory usage: 2.9+ MB\n"
     ]
    }
   ],
   "source": [
    "# Checking \n",
    "df.info()"
   ]
  },
  {
   "cell_type": "code",
   "execution_count": 84,
   "metadata": {},
   "outputs": [
    {
     "data": {
      "text/plain": [
       "0"
      ]
     },
     "execution_count": 84,
     "metadata": {},
     "output_type": "execute_result"
    }
   ],
   "source": [
    "# Checking for duplicate rows\n",
    "df.duplicated().sum()"
   ]
  },
  {
   "cell_type": "markdown",
   "metadata": {},
   "source": [
    "It is clear that data has no toataly duplicate rows"
   ]
  },
  {
   "cell_type": "code",
   "execution_count": 85,
   "metadata": {
    "scrolled": false
   },
   "outputs": [
    {
     "data": {
      "text/plain": [
       "country             195\n",
       "year                301\n",
       "child_mortality     630\n",
       "income             2418\n",
       "life_expectancy     851\n",
       "population         4750\n",
       "dtype: int64"
      ]
     },
     "execution_count": 85,
     "metadata": {},
     "output_type": "execute_result"
    }
   ],
   "source": [
    "# Exploring unique values\n",
    "df.nunique()"
   ]
  },
  {
   "cell_type": "code",
   "execution_count": 86,
   "metadata": {
    "scrolled": false
   },
   "outputs": [
    {
     "data": {
      "text/html": [
       "<div>\n",
       "<style scoped>\n",
       "    .dataframe tbody tr th:only-of-type {\n",
       "        vertical-align: middle;\n",
       "    }\n",
       "\n",
       "    .dataframe tbody tr th {\n",
       "        vertical-align: top;\n",
       "    }\n",
       "\n",
       "    .dataframe thead th {\n",
       "        text-align: right;\n",
       "    }\n",
       "</style>\n",
       "<table border=\"1\" class=\"dataframe\">\n",
       "  <thead>\n",
       "    <tr style=\"text-align: right;\">\n",
       "      <th></th>\n",
       "      <th>child_mortality</th>\n",
       "      <th>income</th>\n",
       "      <th>life_expectancy</th>\n",
       "      <th>population</th>\n",
       "    </tr>\n",
       "  </thead>\n",
       "  <tbody>\n",
       "    <tr>\n",
       "      <th>count</th>\n",
       "      <td>58695.000000</td>\n",
       "      <td>58695.000000</td>\n",
       "      <td>58695.000000</td>\n",
       "      <td>5.869500e+04</td>\n",
       "    </tr>\n",
       "    <tr>\n",
       "      <th>mean</th>\n",
       "      <td>203.540148</td>\n",
       "      <td>5094.384241</td>\n",
       "      <td>50.174385</td>\n",
       "      <td>2.328525e+07</td>\n",
       "    </tr>\n",
       "    <tr>\n",
       "      <th>std</th>\n",
       "      <td>186.049102</td>\n",
       "      <td>12169.372391</td>\n",
       "      <td>24.242602</td>\n",
       "      <td>1.007173e+08</td>\n",
       "    </tr>\n",
       "    <tr>\n",
       "      <th>min</th>\n",
       "      <td>0.000000</td>\n",
       "      <td>0.000000</td>\n",
       "      <td>0.000000</td>\n",
       "      <td>6.450000e+02</td>\n",
       "    </tr>\n",
       "    <tr>\n",
       "      <th>25%</th>\n",
       "      <td>13.000000</td>\n",
       "      <td>530.000000</td>\n",
       "      <td>31.700000</td>\n",
       "      <td>4.220000e+05</td>\n",
       "    </tr>\n",
       "    <tr>\n",
       "      <th>50%</th>\n",
       "      <td>162.000000</td>\n",
       "      <td>1190.000000</td>\n",
       "      <td>44.600000</td>\n",
       "      <td>2.610000e+06</td>\n",
       "    </tr>\n",
       "    <tr>\n",
       "      <th>75%</th>\n",
       "      <td>400.500000</td>\n",
       "      <td>3410.000000</td>\n",
       "      <td>73.500000</td>\n",
       "      <td>1.080000e+07</td>\n",
       "    </tr>\n",
       "    <tr>\n",
       "      <th>max</th>\n",
       "      <td>756.000000</td>\n",
       "      <td>179000.000000</td>\n",
       "      <td>94.800000</td>\n",
       "      <td>1.650000e+09</td>\n",
       "    </tr>\n",
       "  </tbody>\n",
       "</table>\n",
       "</div>"
      ],
      "text/plain": [
       "       child_mortality         income  life_expectancy    population\n",
       "count     58695.000000   58695.000000     58695.000000  5.869500e+04\n",
       "mean        203.540148    5094.384241        50.174385  2.328525e+07\n",
       "std         186.049102   12169.372391        24.242602  1.007173e+08\n",
       "min           0.000000       0.000000         0.000000  6.450000e+02\n",
       "25%          13.000000     530.000000        31.700000  4.220000e+05\n",
       "50%         162.000000    1190.000000        44.600000  2.610000e+06\n",
       "75%         400.500000    3410.000000        73.500000  1.080000e+07\n",
       "max         756.000000  179000.000000        94.800000  1.650000e+09"
      ]
     },
     "execution_count": 86,
     "metadata": {},
     "output_type": "execute_result"
    }
   ],
   "source": [
    "# Getting some statistical info\n",
    "df.describe()"
   ]
  },
  {
   "cell_type": "code",
   "execution_count": 87,
   "metadata": {
    "scrolled": true
   },
   "outputs": [
    {
     "data": {
      "image/png": "[encoded data removed]",
      "text/plain": [
       "<Figure size 720x576 with 4 Axes>"
      ]
     },
     "metadata": {},
     "output_type": "display_data"
    }
   ],
   "source": [
    "# Visulizing data \n",
    "df.hist(figsize= (10,8));"
   ]
  },
  {
   "cell_type": "code",
   "execution_count": 88,
   "metadata": {
    "scrolled": true
   },
   "outputs": [
    {
     "data": {
      "text/html": [
       "<div>\n",
       "<style scoped>\n",
       "    .dataframe tbody tr th:only-of-type {\n",
       "        vertical-align: middle;\n",
       "    }\n",
       "\n",
       "    .dataframe tbody tr th {\n",
       "        vertical-align: top;\n",
       "    }\n",
       "\n",
       "    .dataframe thead th {\n",
       "        text-align: right;\n",
       "    }\n",
       "</style>\n",
       "<table border=\"1\" class=\"dataframe\">\n",
       "  <thead>\n",
       "    <tr style=\"text-align: right;\">\n",
       "      <th></th>\n",
       "      <th>child_mortality</th>\n",
       "      <th>income</th>\n",
       "      <th>life_expectancy</th>\n",
       "      <th>population</th>\n",
       "    </tr>\n",
       "  </thead>\n",
       "  <tbody>\n",
       "    <tr>\n",
       "      <th>child_mortality</th>\n",
       "      <td>1.000000</td>\n",
       "      <td>-0.295074</td>\n",
       "      <td>-0.683699</td>\n",
       "      <td>-0.140056</td>\n",
       "    </tr>\n",
       "    <tr>\n",
       "      <th>income</th>\n",
       "      <td>-0.295074</td>\n",
       "      <td>1.000000</td>\n",
       "      <td>0.245651</td>\n",
       "      <td>0.006699</td>\n",
       "    </tr>\n",
       "    <tr>\n",
       "      <th>life_expectancy</th>\n",
       "      <td>-0.683699</td>\n",
       "      <td>0.245651</td>\n",
       "      <td>1.000000</td>\n",
       "      <td>0.172869</td>\n",
       "    </tr>\n",
       "    <tr>\n",
       "      <th>population</th>\n",
       "      <td>-0.140056</td>\n",
       "      <td>0.006699</td>\n",
       "      <td>0.172869</td>\n",
       "      <td>1.000000</td>\n",
       "    </tr>\n",
       "  </tbody>\n",
       "</table>\n",
       "</div>"
      ],
      "text/plain": [
       "                 child_mortality    income  life_expectancy  population\n",
       "child_mortality         1.000000 -0.295074        -0.683699   -0.140056\n",
       "income                 -0.295074  1.000000         0.245651    0.006699\n",
       "life_expectancy        -0.683699  0.245651         1.000000    0.172869\n",
       "population             -0.140056  0.006699         0.172869    1.000000"
      ]
     },
     "execution_count": 88,
     "metadata": {},
     "output_type": "execute_result"
    }
   ],
   "source": [
    "# Correlation \n",
    "df.corr()"
   ]
  },
  {
   "cell_type": "markdown",
   "metadata": {},
   "source": [
    "It seems that there is a correlation between income and child mortality (inverse relation)."
   ]
  },
  {
   "cell_type": "markdown",
   "metadata": {},
   "source": [
    "<a id='eda'></a>\n",
    "## Exploratory Data Analysis\n",
    "\n",
    "### Research Question 1 (Have certain regions of the world been growing in selected indicators better than others?)"
   ]
  },
  {
   "cell_type": "code",
   "execution_count": 89,
   "metadata": {
    "scrolled": true
   },
   "outputs": [],
   "source": [
    "# Setting the country as the index\n",
    "df.set_index('country', inplace= True)"
   ]
  },
  {
   "cell_type": "code",
   "execution_count": 90,
   "metadata": {},
   "outputs": [
    {
     "data": {
      "text/html": [
       "<div>\n",
       "<style scoped>\n",
       "    .dataframe tbody tr th:only-of-type {\n",
       "        vertical-align: middle;\n",
       "    }\n",
       "\n",
       "    .dataframe tbody tr th {\n",
       "        vertical-align: top;\n",
       "    }\n",
       "\n",
       "    .dataframe thead th {\n",
       "        text-align: right;\n",
       "    }\n",
       "</style>\n",
       "<table border=\"1\" class=\"dataframe\">\n",
       "  <thead>\n",
       "    <tr style=\"text-align: right;\">\n",
       "      <th></th>\n",
       "      <th>year</th>\n",
       "      <th>child_mortality</th>\n",
       "      <th>income</th>\n",
       "      <th>life_expectancy</th>\n",
       "      <th>population</th>\n",
       "    </tr>\n",
       "    <tr>\n",
       "      <th>country</th>\n",
       "      <th></th>\n",
       "      <th></th>\n",
       "      <th></th>\n",
       "      <th></th>\n",
       "      <th></th>\n",
       "    </tr>\n",
       "  </thead>\n",
       "  <tbody>\n",
       "    <tr>\n",
       "      <th>Afghanistan</th>\n",
       "      <td>1800</td>\n",
       "      <td>469</td>\n",
       "      <td>603.0</td>\n",
       "      <td>28.2</td>\n",
       "      <td>3280000</td>\n",
       "    </tr>\n",
       "    <tr>\n",
       "      <th>Albania</th>\n",
       "      <td>1800</td>\n",
       "      <td>375</td>\n",
       "      <td>667.0</td>\n",
       "      <td>35.4</td>\n",
       "      <td>400000</td>\n",
       "    </tr>\n",
       "    <tr>\n",
       "      <th>Algeria</th>\n",
       "      <td>1800</td>\n",
       "      <td>460</td>\n",
       "      <td>715.0</td>\n",
       "      <td>28.8</td>\n",
       "      <td>2500000</td>\n",
       "    </tr>\n",
       "    <tr>\n",
       "      <th>Andorra</th>\n",
       "      <td>1800</td>\n",
       "      <td>0</td>\n",
       "      <td>1200.0</td>\n",
       "      <td>0.0</td>\n",
       "      <td>2650</td>\n",
       "    </tr>\n",
       "    <tr>\n",
       "      <th>Angola</th>\n",
       "      <td>1800</td>\n",
       "      <td>486</td>\n",
       "      <td>618.0</td>\n",
       "      <td>27.0</td>\n",
       "      <td>1570000</td>\n",
       "    </tr>\n",
       "  </tbody>\n",
       "</table>\n",
       "</div>"
      ],
      "text/plain": [
       "             year  child_mortality  income  life_expectancy  population\n",
       "country                                                                \n",
       "Afghanistan  1800              469   603.0             28.2     3280000\n",
       "Albania      1800              375   667.0             35.4      400000\n",
       "Algeria      1800              460   715.0             28.8     2500000\n",
       "Andorra      1800                0  1200.0              0.0        2650\n",
       "Angola       1800              486   618.0             27.0     1570000"
      ]
     },
     "execution_count": 90,
     "metadata": {},
     "output_type": "execute_result"
    }
   ],
   "source": [
    "df.head() # Checking"
   ]
  },
  {
   "cell_type": "code",
   "execution_count": 91,
   "metadata": {
    "scrolled": true
   },
   "outputs": [
    {
     "data": {
      "text/html": [
       "<div>\n",
       "<style scoped>\n",
       "    .dataframe tbody tr th:only-of-type {\n",
       "        vertical-align: middle;\n",
       "    }\n",
       "\n",
       "    .dataframe tbody tr th {\n",
       "        vertical-align: top;\n",
       "    }\n",
       "\n",
       "    .dataframe thead th {\n",
       "        text-align: right;\n",
       "    }\n",
       "</style>\n",
       "<table border=\"1\" class=\"dataframe\">\n",
       "  <thead>\n",
       "    <tr style=\"text-align: right;\">\n",
       "      <th></th>\n",
       "      <th>child_mortality</th>\n",
       "      <th>income</th>\n",
       "      <th>life_expectancy</th>\n",
       "      <th>population</th>\n",
       "    </tr>\n",
       "    <tr>\n",
       "      <th>country</th>\n",
       "      <th></th>\n",
       "      <th></th>\n",
       "      <th></th>\n",
       "      <th></th>\n",
       "    </tr>\n",
       "  </thead>\n",
       "  <tbody>\n",
       "    <tr>\n",
       "      <th>Afghanistan</th>\n",
       "      <td>292.249169</td>\n",
       "      <td>1133.591362</td>\n",
       "      <td>45.070664</td>\n",
       "      <td>2.408907e+07</td>\n",
       "    </tr>\n",
       "    <tr>\n",
       "      <th>Albania</th>\n",
       "      <td>203.362126</td>\n",
       "      <td>3005.966777</td>\n",
       "      <td>56.954153</td>\n",
       "      <td>1.506748e+06</td>\n",
       "    </tr>\n",
       "    <tr>\n",
       "      <th>Algeria</th>\n",
       "      <td>252.149502</td>\n",
       "      <td>4105.006645</td>\n",
       "      <td>52.704983</td>\n",
       "      <td>2.416276e+07</td>\n",
       "    </tr>\n",
       "    <tr>\n",
       "      <th>Andorra</th>\n",
       "      <td>4.794020</td>\n",
       "      <td>13295.880399</td>\n",
       "      <td>12.720930</td>\n",
       "      <td>3.167442e+04</td>\n",
       "    </tr>\n",
       "    <tr>\n",
       "      <th>Angola</th>\n",
       "      <td>296.455150</td>\n",
       "      <td>2065.936877</td>\n",
       "      <td>45.443189</td>\n",
       "      <td>3.171944e+07</td>\n",
       "    </tr>\n",
       "    <tr>\n",
       "      <th>...</th>\n",
       "      <td>...</td>\n",
       "      <td>...</td>\n",
       "      <td>...</td>\n",
       "      <td>...</td>\n",
       "    </tr>\n",
       "    <tr>\n",
       "      <th>Venezuela</th>\n",
       "      <td>202.418605</td>\n",
       "      <td>5376.910299</td>\n",
       "      <td>54.572093</td>\n",
       "      <td>1.476439e+07</td>\n",
       "    </tr>\n",
       "    <tr>\n",
       "      <th>Vietnam</th>\n",
       "      <td>215.249169</td>\n",
       "      <td>1733.754153</td>\n",
       "      <td>52.309967</td>\n",
       "      <td>4.791528e+07</td>\n",
       "    </tr>\n",
       "    <tr>\n",
       "      <th>Yemen</th>\n",
       "      <td>319.956811</td>\n",
       "      <td>1449.521595</td>\n",
       "      <td>43.551827</td>\n",
       "      <td>1.736767e+07</td>\n",
       "    </tr>\n",
       "    <tr>\n",
       "      <th>Zambia</th>\n",
       "      <td>242.591362</td>\n",
       "      <td>1345.093023</td>\n",
       "      <td>48.079734</td>\n",
       "      <td>1.555402e+07</td>\n",
       "    </tr>\n",
       "    <tr>\n",
       "      <th>Zimbabwe</th>\n",
       "      <td>222.056478</td>\n",
       "      <td>1177.813953</td>\n",
       "      <td>48.557475</td>\n",
       "      <td>9.335030e+06</td>\n",
       "    </tr>\n",
       "  </tbody>\n",
       "</table>\n",
       "<p>195 rows × 4 columns</p>\n",
       "</div>"
      ],
      "text/plain": [
       "             child_mortality        income  life_expectancy    population\n",
       "country                                                                  \n",
       "Afghanistan       292.249169   1133.591362        45.070664  2.408907e+07\n",
       "Albania           203.362126   3005.966777        56.954153  1.506748e+06\n",
       "Algeria           252.149502   4105.006645        52.704983  2.416276e+07\n",
       "Andorra             4.794020  13295.880399        12.720930  3.167442e+04\n",
       "Angola            296.455150   2065.936877        45.443189  3.171944e+07\n",
       "...                      ...           ...              ...           ...\n",
       "Venezuela         202.418605   5376.910299        54.572093  1.476439e+07\n",
       "Vietnam           215.249169   1733.754153        52.309967  4.791528e+07\n",
       "Yemen             319.956811   1449.521595        43.551827  1.736767e+07\n",
       "Zambia            242.591362   1345.093023        48.079734  1.555402e+07\n",
       "Zimbabwe          222.056478   1177.813953        48.557475  9.335030e+06\n",
       "\n",
       "[195 rows x 4 columns]"
      ]
     },
     "execution_count": 91,
     "metadata": {},
     "output_type": "execute_result"
    }
   ],
   "source": [
    "# Working with the mean values of indicators over years\n",
    "df_means = df.groupby(['country']).mean()\n",
    "df_m = df_means\n",
    "df_m"
   ]
  },
  {
   "cell_type": "code",
   "execution_count": 92,
   "metadata": {},
   "outputs": [
    {
     "data": {
      "text/html": [
       "<div>\n",
       "<style scoped>\n",
       "    .dataframe tbody tr th:only-of-type {\n",
       "        vertical-align: middle;\n",
       "    }\n",
       "\n",
       "    .dataframe tbody tr th {\n",
       "        vertical-align: top;\n",
       "    }\n",
       "\n",
       "    .dataframe thead th {\n",
       "        text-align: right;\n",
       "    }\n",
       "</style>\n",
       "<table border=\"1\" class=\"dataframe\">\n",
       "  <thead>\n",
       "    <tr style=\"text-align: right;\">\n",
       "      <th></th>\n",
       "      <th>child_mortality</th>\n",
       "      <th>income</th>\n",
       "      <th>life_expectancy</th>\n",
       "      <th>population</th>\n",
       "    </tr>\n",
       "  </thead>\n",
       "  <tbody>\n",
       "    <tr>\n",
       "      <th>count</th>\n",
       "      <td>195.000000</td>\n",
       "      <td>195.000000</td>\n",
       "      <td>195.000000</td>\n",
       "      <td>1.950000e+02</td>\n",
       "    </tr>\n",
       "    <tr>\n",
       "      <th>mean</th>\n",
       "      <td>203.540148</td>\n",
       "      <td>5094.384241</td>\n",
       "      <td>50.174385</td>\n",
       "      <td>2.328525e+07</td>\n",
       "    </tr>\n",
       "    <tr>\n",
       "      <th>std</th>\n",
       "      <td>68.302423</td>\n",
       "      <td>5268.751175</td>\n",
       "      <td>12.821073</td>\n",
       "      <td>8.134344e+07</td>\n",
       "    </tr>\n",
       "    <tr>\n",
       "      <th>min</th>\n",
       "      <td>2.348837</td>\n",
       "      <td>0.000000</td>\n",
       "      <td>0.000000</td>\n",
       "      <td>8.513322e+02</td>\n",
       "    </tr>\n",
       "    <tr>\n",
       "      <th>25%</th>\n",
       "      <td>167.500000</td>\n",
       "      <td>1388.029900</td>\n",
       "      <td>47.538206</td>\n",
       "      <td>1.219176e+06</td>\n",
       "    </tr>\n",
       "    <tr>\n",
       "      <th>50%</th>\n",
       "      <td>218.139535</td>\n",
       "      <td>3127.451827</td>\n",
       "      <td>52.095349</td>\n",
       "      <td>5.045389e+06</td>\n",
       "    </tr>\n",
       "    <tr>\n",
       "      <th>75%</th>\n",
       "      <td>251.524917</td>\n",
       "      <td>6847.807309</td>\n",
       "      <td>56.529236</td>\n",
       "      <td>1.726764e+07</td>\n",
       "    </tr>\n",
       "    <tr>\n",
       "      <th>max</th>\n",
       "      <td>330.468439</td>\n",
       "      <td>32121.328904</td>\n",
       "      <td>67.243854</td>\n",
       "      <td>7.993920e+08</td>\n",
       "    </tr>\n",
       "  </tbody>\n",
       "</table>\n",
       "</div>"
      ],
      "text/plain": [
       "       child_mortality        income  life_expectancy    population\n",
       "count       195.000000    195.000000       195.000000  1.950000e+02\n",
       "mean        203.540148   5094.384241        50.174385  2.328525e+07\n",
       "std          68.302423   5268.751175        12.821073  8.134344e+07\n",
       "min           2.348837      0.000000         0.000000  8.513322e+02\n",
       "25%         167.500000   1388.029900        47.538206  1.219176e+06\n",
       "50%         218.139535   3127.451827        52.095349  5.045389e+06\n",
       "75%         251.524917   6847.807309        56.529236  1.726764e+07\n",
       "max         330.468439  32121.328904        67.243854  7.993920e+08"
      ]
     },
     "execution_count": 92,
     "metadata": {},
     "output_type": "execute_result"
    }
   ],
   "source": [
    "df_m.describe()"
   ]
  },
  {
   "cell_type": "code",
   "execution_count": 93,
   "metadata": {},
   "outputs": [
    {
     "data": {
      "text/plain": [
       "income              Qatar\n",
       "life_expectancy    Norway\n",
       "population          China\n",
       "dtype: object"
      ]
     },
     "execution_count": 93,
     "metadata": {},
     "output_type": "execute_result"
    }
   ],
   "source": [
    "df_m.idxmax()[1:4]"
   ]
  },
  {
   "cell_type": "code",
   "execution_count": 94,
   "metadata": {},
   "outputs": [
    {
     "data": {
      "text/plain": [
       "'Monaco'"
      ]
     },
     "execution_count": 94,
     "metadata": {},
     "output_type": "execute_result"
    }
   ],
   "source": [
    "df_m.child_mortality.idxmin()"
   ]
  },
  {
   "cell_type": "markdown",
   "metadata": {},
   "source": [
    "From the past calculations Qatar has the highest mean income level, Norway has the highest mean life expectancy level, China has the highest population levels, Monaco has the least number of child mortalities below age 5 per 1.000 births. "
   ]
  },
  {
   "cell_type": "markdown",
   "metadata": {},
   "source": [
    "### Research Question 2 (Is child  mortality related to any other indicators?)"
   ]
  },
  {
   "cell_type": "code",
   "execution_count": 95,
   "metadata": {
    "scrolled": false
   },
   "outputs": [],
   "source": [
    "# Creating a function that plot the scatter relation between given indicators \n",
    "def plot_scatter(df, indicator_effected ,indicator1, indicator2):\n",
    "    ''' \n",
    "    Input data: df DataFrame, indicator_effected, indicator1, indicator2\n",
    "    Output: two figures\n",
    "        1-Relation between indicator_effected and indicator1\n",
    "        2-Relation between indicator_effected and indicator2\n",
    "    '''\n",
    "    scatter1 = df.plot(kind = 'scatter', x = indicator1, y = indicator_effected)\n",
    "    plt.title('Efeect of {} on {}'.format(indicator1, indicator_effected ), fontsize = 15)\n",
    "    scatter2 = df.plot(kind= \"scatter\", x = indicator2, y = indicator_effected)\n",
    "    plt.title('Efeect of {} on {}'.format(indicator2, indicator_effected), fontsize = 15)\n",
    "    return scatter1, scatter2"
   ]
  },
  {
   "cell_type": "code",
   "execution_count": 96,
   "metadata": {},
   "outputs": [
    {
     "data": {
      "image/png": "[encoded data removed]",
      "text/plain": [
       "<Figure size 432x288 with 1 Axes>"
      ]
     },
     "metadata": {},
     "output_type": "display_data"
    },
    {
     "data": {
      "image/png": "[encoded data removed]",
      "text/plain": [
       "<Figure size 432x288 with 1 Axes>"
      ]
     },
     "metadata": {},
     "output_type": "display_data"
    }
   ],
   "source": [
    "# Studying the relation between child mortality and other indicators\n",
    "plot_scatter(df_m, 'child_mortality' , 'income' , 'population');"
   ]
  },
  {
   "cell_type": "markdown",
   "metadata": {},
   "source": [
    "Increase in income decreases child mortality. population increase seems to have no strong effect on child mortality.\n",
    "\n",
    "Why not specefying the country of the higest and lowst level of child mortalities to see what is there on small scale!"
   ]
  },
  {
   "cell_type": "code",
   "execution_count": 97,
   "metadata": {},
   "outputs": [
    {
     "data": {
      "text/plain": [
       "('Sierra Leone', 'Monaco')"
      ]
     },
     "execution_count": 97,
     "metadata": {},
     "output_type": "execute_result"
    }
   ],
   "source": [
    "# Getting the country with the lowst and higest mean levels of child mortality\n",
    "df_m.child_mortality.idxmax(), df_m.child_mortality.idxmin()"
   ]
  },
  {
   "cell_type": "code",
   "execution_count": 104,
   "metadata": {
    "scrolled": true
   },
   "outputs": [
    {
     "data": {
      "text/plain": [
       "country\n",
       "Monaco    True\n",
       "Name: income, dtype: bool"
      ]
     },
     "execution_count": 104,
     "metadata": {},
     "output_type": "execute_result"
    }
   ],
   "source": [
    "# Specifying the data to the country Monaco  \n",
    "df_Monaco = df_m.query('country == \"Monaco\"')\n",
    "# Comparing between moncao's mean income and the mean income of all countires  \n",
    "df_Monaco['income'] > df_m['income'].mean()"
   ]
  },
  {
   "cell_type": "code",
   "execution_count": 105,
   "metadata": {},
   "outputs": [
    {
     "data": {
      "text/plain": [
       "country\n",
       "Monaco    True\n",
       "Name: population, dtype: bool"
      ]
     },
     "execution_count": 105,
     "metadata": {},
     "output_type": "execute_result"
    }
   ],
   "source": [
    "# Comparing between moncao's mean population and the mean population of all countires  \n",
    "df_Monaco['population'] < df_m['population'].mean()"
   ]
  },
  {
   "cell_type": "markdown",
   "metadata": {},
   "source": [
    "Monaca which is the country that has the lowst mean value of child mortality has an income mean grater than the mean of other countries income means and a population mean less than the mean of other countries population means."
   ]
  },
  {
   "cell_type": "code",
   "execution_count": 106,
   "metadata": {
    "scrolled": false
   },
   "outputs": [
    {
     "data": {
      "text/plain": [
       "country\n",
       "Sierra Leone    False\n",
       "Name: income, dtype: bool"
      ]
     },
     "execution_count": 106,
     "metadata": {},
     "output_type": "execute_result"
    }
   ],
   "source": [
    "# Specifying the data to the country Sierra Leone \n",
    "df_sierra = df_m.query('country == \"Sierra Leone\"')\n",
    "# Comparing between df_sierra's mean income and the mean income of all countires  \n",
    "df_sierra['income'] > df_m['income'].mean()"
   ]
  },
  {
   "cell_type": "code",
   "execution_count": 113,
   "metadata": {
    "scrolled": true
   },
   "outputs": [
    {
     "data": {
      "text/plain": [
       "country\n",
       "Sierra Leone    True\n",
       "Name: population, dtype: bool"
      ]
     },
     "execution_count": 113,
     "metadata": {},
     "output_type": "execute_result"
    }
   ],
   "source": [
    "# Comparing between moncao's mean population and the mean population of all countires  \n",
    "df_sierra['population'] < df_m['population'].mean()"
   ]
  },
  {
   "cell_type": "markdown",
   "metadata": {},
   "source": [
    "Now we can say that it is clear on the large scale of all countries and on the small scale of the two countires of highest and lowst level of child mortality that increase in income decreases the child mortality, but increase in population has no strong effect on it."
   ]
  },
  {
   "cell_type": "markdown",
   "metadata": {},
   "source": [
    "### Research Question 3 (Is life expectancy child mortality related to any other indicators?)"
   ]
  },
  {
   "cell_type": "code",
   "execution_count": 102,
   "metadata": {},
   "outputs": [
    {
     "data": {
      "image/png": "[encoded data removed]",
      "text/plain": [
       "<Figure size 432x288 with 1 Axes>"
      ]
     },
     "metadata": {},
     "output_type": "display_data"
    },
    {
     "data": {
      "image/png": "[encoded data removed]",
      "text/plain": [
       "<Figure size 432x288 with 1 Axes>"
      ]
     },
     "metadata": {},
     "output_type": "display_data"
    }
   ],
   "source": [
    "# Studying the relation between life expectancy and other indicators\n",
    "plot_scatter(df_m, 'life_expectancy' , 'income' , 'population');"
   ]
  },
  {
   "cell_type": "markdown",
   "metadata": {},
   "source": [
    "Life expectancy increases by the increase in income. population increase seems to have an inverse effect on life expectancy."
   ]
  },
  {
   "cell_type": "code",
   "execution_count": 117,
   "metadata": {},
   "outputs": [
    {
     "data": {
      "text/plain": [
       "('Norway', 'Holy See')"
      ]
     },
     "execution_count": 117,
     "metadata": {},
     "output_type": "execute_result"
    }
   ],
   "source": [
    "# Getting the country with the lowst and higest mean levels of Life expectancy\n",
    "df_m.life_expectancy.idxmax(), df_m.life_expectancy.idxmin()"
   ]
  },
  {
   "cell_type": "code",
   "execution_count": 118,
   "metadata": {},
   "outputs": [
    {
     "data": {
      "text/plain": [
       "country\n",
       "Norway    True\n",
       "Name: income, dtype: bool"
      ]
     },
     "execution_count": 118,
     "metadata": {},
     "output_type": "execute_result"
    }
   ],
   "source": [
    "# Specifying the data to the country Monaco  \n",
    "df_Norway = df_m.query('country == \"Norway\"')\n",
    "# Comparing between moncao's mean income and the mean income of all countires  \n",
    "df_Norway['income'] > df_m['income'].mean()"
   ]
  },
  {
   "cell_type": "code",
   "execution_count": 120,
   "metadata": {
    "scrolled": true
   },
   "outputs": [
    {
     "data": {
      "text/plain": [
       "country\n",
       "Norway    True\n",
       "Name: population, dtype: bool"
      ]
     },
     "execution_count": 120,
     "metadata": {},
     "output_type": "execute_result"
    }
   ],
   "source": [
    "# Comparing between Norway's mean population and the mean population of all countires  \n",
    "df_Norway['population'] < df_m['population'].mean()"
   ]
  },
  {
   "cell_type": "markdown",
   "metadata": {},
   "source": [
    "Norway which is the country that has the highest mean value of life expectancy has an income mean grater than the mean of other countries income means and a population mean less than the mean of other countries population means."
   ]
  },
  {
   "cell_type": "code",
   "execution_count": 121,
   "metadata": {
    "scrolled": true
   },
   "outputs": [
    {
     "data": {
      "text/plain": [
       "country\n",
       "Sierra Leone    False\n",
       "Name: income, dtype: bool"
      ]
     },
     "execution_count": 121,
     "metadata": {},
     "output_type": "execute_result"
    }
   ],
   "source": [
    "# Specifying the data to the country Holy See \n",
    "df_HolySee = df_m.query('country == \"Sierra Leone\"')\n",
    "# Comparing between Holy See's mean income and the mean income of all countires  \n",
    "df_HolySee['income'] > df_m['income'].mean()"
   ]
  },
  {
   "cell_type": "code",
   "execution_count": 122,
   "metadata": {
    "scrolled": true
   },
   "outputs": [
    {
     "data": {
      "text/plain": [
       "country\n",
       "Sierra Leone    True\n",
       "Name: population, dtype: bool"
      ]
     },
     "execution_count": 122,
     "metadata": {},
     "output_type": "execute_result"
    }
   ],
   "source": [
    "# Comparing between Holy See's mean population and the mean population of all countires  \n",
    "df_HolySee['population'] < df_m['population'].mean()"
   ]
  },
  {
   "cell_type": "markdown",
   "metadata": {},
   "source": [
    "Now we can say that it is clear on the large scale of all countries and on the small scale of the two countires of highest and lowst level of life expectancy that increase in income increases the life expectancy , but increase in population has no strong effect on it."
   ]
  },
  {
   "cell_type": "markdown",
   "metadata": {},
   "source": [
    "### Research Question 4 (Is Income related to population?)"
   ]
  },
  {
   "cell_type": "code",
   "execution_count": 138,
   "metadata": {
    "scrolled": true
   },
   "outputs": [
    {
     "data": {
      "image/png": "[encoded data removed]",
      "text/plain": [
       "<Figure size 432x288 with 1 Axes>"
      ]
     },
     "metadata": {},
     "output_type": "display_data"
    }
   ],
   "source": [
    "# Relation between income and population \n",
    "df_m.plot(kind = 'scatter', x = \"population\", y = \"income\")\n",
    "plt.title('Efeect of {} on {}'.format(\"population\", \"income\"), fontsize = 15);"
   ]
  },
  {
   "cell_type": "code",
   "execution_count": 135,
   "metadata": {},
   "outputs": [
    {
     "data": {
      "text/plain": [
       "'China'"
      ]
     },
     "execution_count": 135,
     "metadata": {},
     "output_type": "execute_result"
    }
   ],
   "source": [
    "# Getting the country with the lowst and higest mean levels of population\n",
    "df_m.population.idxmax()"
   ]
  },
  {
   "cell_type": "code",
   "execution_count": 136,
   "metadata": {
    "scrolled": false
   },
   "outputs": [
    {
     "data": {
      "text/plain": [
       "country\n",
       "China    False\n",
       "Name: income, dtype: bool"
      ]
     },
     "execution_count": 136,
     "metadata": {},
     "output_type": "execute_result"
    }
   ],
   "source": [
    "# Checking for China which has the higest population mean\n",
    "df_china = df_m.query('country == \"China\"')\n",
    "df_china['income'] > df_m['income'].mean()"
   ]
  },
  {
   "cell_type": "markdown",
   "metadata": {},
   "source": [
    "Increase in population has an inverse effect on income"
   ]
  },
  {
   "cell_type": "markdown",
   "metadata": {},
   "source": [
    "# Conclusions "
   ]
  },
  {
   "cell_type": "markdown",
   "metadata": {},
   "source": [
    "### After analysis of the data we concluded the next outcomes:\n",
    "    \n",
    "Qatar has the highest mean income level, Norway has the highest mean life expectancy level, China has the highest population mean levels, and Monaco has the least number of child mortalities below age 5 per 1.000 births.\n",
    "\n",
    "An increase in income decreases child mortality, but an increase in population has no strong effect on it.\n",
    "\n",
    "An increase in income increases life expectancy, but an increase in population has no strong effect on it.\n",
    "\n",
    "An increase in population has an inverse effect on income."
   ]
  },
  {
   "cell_type": "markdown",
   "metadata": {},
   "source": [
    "<a id='References'></a>\n",
    "# References\n",
    "\n",
    "[How can I use for loop with melt and rename in pandas?](https://stackoverflow.com/questions/67883030/how-can-i-use-for-loop-with-melt-and-rename-in-pandas/67883186#67883186)\n",
    "\n",
    "[Transpose Dataframe Columns into Rows](https://macxima.medium.com/python-transpose-dataframe-columns-into-rows-d0154a34752c)\n",
    "\n",
    "[Joins in Pandas](https://www.analyticsvidhya.com/blog/2020/02/joins-in-pandas-master-the-different-types-of-joins-in-python/)\n",
    "\n",
    "[Get the index of minimum value in DataFrame column](https://www.geeksforgeeks.org/get-the-index-of-minimum-value-in-dataframe-column/)\n",
    "[How can I use for loop with melt and rename in pandas?](https://stackoverflow.com/questions/67883030/how-can-i-use-for-loop-with-melt-and-rename-in-pandas/67883186#67883186)"
   ]
  }
 ],
 "metadata": {
  "kernelspec": {
   "display_name": "Python 3",
   "language": "python",
   "name": "python3"
  },
  "language_info": {
   "codemirror_mode": {
    "name": "ipython",
    "version": 3
   },
   "file_extension": ".py",
   "mimetype": "text/x-python",
   "name": "python",
   "nbconvert_exporter": "python",
   "pygments_lexer": "ipython3",
   "version": "3.8.5"
  }
 },
 "nbformat": 4,
 "nbformat_minor": 2
}
