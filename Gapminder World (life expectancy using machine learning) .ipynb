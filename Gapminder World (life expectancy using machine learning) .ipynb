{
 "cells": [
  {
   "cell_type": "markdown",
   "metadata": {},
   "source": [
    "\n",
    "# Gapminder World (Building  a mchine learning model to pedict life expectancy)\n",
    "\n",
    "## Table of Contents\n",
    "<ul>\n",
    "<li><a href=\"#intro\">Introduction</a></li>\n",
    "<li><a href=\"#wrangling\">Data Wrangling</a></li>\n",
    "<li><a href=\"#conclusions\">Conclusions</a></li>\n",
    "</ul>\n",
    "\n",
    "<a id='intro'></a>\n",
    "## Introduction\n",
    "\n",
    ">Gapminder has collected a lot of information about how people live heir lives in different countries, racked across the years, and on a umber of different indicators. For this project I selected child mortality, income, life expectancy, and population indicators.  \n",
    ">\n",
    ">I am going to clean and merge these indicators into one DataFrame then build a mahine learning model to predict life expectancy."
   ]
  },
  {
   "cell_type": "markdown",
   "metadata": {},
   "source": [
    "<a id='wrangling'></a>\n",
    "## Data Wrangling\n",
    "\n",
    "### Asessing and cleaning Data"
   ]
  },
  {
   "cell_type": "code",
   "execution_count": 1,
   "metadata": {
    "scrolled": false
   },
   "outputs": [],
   "source": [
    "# Importing packages\n",
    "import numpy as np\n",
    "import pandas as pd\n",
    "import matplotlib.pyplot as plt\n",
    "%matplotlib inline\n",
    "import seaborn as sns\n",
    "import datetime as dt\n",
    "sns.set_style('darkgrid')\n",
    "\n",
    "# Loading data and printing out a few lines. \n",
    "df1 = pd.read_csv('child_mortality_0_5_year_olds_dying_per_1000_born.csv')\n",
    "df2 = pd.read_csv('income_per_person_gdppercapita_ppp_inflation_adjusted (1).csv')\n",
    "df3 = pd.read_csv('life_expectancy_years (1).csv')\n",
    "df4 = pd.read_csv('population_total.csv')"
   ]
  },
  {
   "cell_type": "code",
   "execution_count": 2,
   "metadata": {},
   "outputs": [],
   "source": [
    "# Transposing year rows and renaming the value columns \n",
    "data_files = [df1, df2, df3, df4]\n",
    "names = ['child_mortality','income','life_expectancy','population']\n",
    "i = 0 \n",
    "names = ['child_mortality','income','life_expectancy','population']\n",
    "for df in data_files: \n",
    "    df = df.melt(['country'], var_name='year')\n",
    "    df = df.rename(columns = {'value': names[i]}, inplace = False)\n",
    "    data_files[i] = df\n",
    "    i += 1\n",
    "df1, df2, df3, df4 = data_files"
   ]
  },
  {
   "cell_type": "code",
   "execution_count": 3,
   "metadata": {
    "scrolled": true
   },
   "outputs": [
    {
     "data": {
      "text/html": [
       "<div>\n",
       "<style scoped>\n",
       "    .dataframe tbody tr th:only-of-type {\n",
       "        vertical-align: middle;\n",
       "    }\n",
       "\n",
       "    .dataframe tbody tr th {\n",
       "        vertical-align: top;\n",
       "    }\n",
       "\n",
       "    .dataframe thead th {\n",
       "        text-align: right;\n",
       "    }\n",
       "</style>\n",
       "<table border=\"1\" class=\"dataframe\">\n",
       "  <thead>\n",
       "    <tr style=\"text-align: right;\">\n",
       "      <th></th>\n",
       "      <th>country</th>\n",
       "      <th>year</th>\n",
       "      <th>child_mortality</th>\n",
       "    </tr>\n",
       "  </thead>\n",
       "  <tbody>\n",
       "    <tr>\n",
       "      <th>0</th>\n",
       "      <td>Afghanistan</td>\n",
       "      <td>1800</td>\n",
       "      <td>469.0</td>\n",
       "    </tr>\n",
       "    <tr>\n",
       "      <th>1</th>\n",
       "      <td>Albania</td>\n",
       "      <td>1800</td>\n",
       "      <td>375.0</td>\n",
       "    </tr>\n",
       "    <tr>\n",
       "      <th>2</th>\n",
       "      <td>Algeria</td>\n",
       "      <td>1800</td>\n",
       "      <td>460.0</td>\n",
       "    </tr>\n",
       "    <tr>\n",
       "      <th>3</th>\n",
       "      <td>Andorra</td>\n",
       "      <td>1800</td>\n",
       "      <td>NaN</td>\n",
       "    </tr>\n",
       "    <tr>\n",
       "      <th>4</th>\n",
       "      <td>Angola</td>\n",
       "      <td>1800</td>\n",
       "      <td>486.0</td>\n",
       "    </tr>\n",
       "  </tbody>\n",
       "</table>\n",
       "</div>"
      ],
      "text/plain": [
       "       country  year  child_mortality\n",
       "0  Afghanistan  1800            469.0\n",
       "1      Albania  1800            375.0\n",
       "2      Algeria  1800            460.0\n",
       "3      Andorra  1800              NaN\n",
       "4       Angola  1800            486.0"
      ]
     },
     "execution_count": 3,
     "metadata": {},
     "output_type": "execute_result"
    }
   ],
   "source": [
    "df1.head() # Checking"
   ]
  },
  {
   "cell_type": "code",
   "execution_count": 4,
   "metadata": {},
   "outputs": [],
   "source": [
    "# Merging data files in one data file\n",
    "dfm1= pd.merge(df1,df2,on=['year', 'country'], how= 'left')\n",
    "dfm2 = pd.merge(dfm1,df3,on=['year', 'country'], how= 'left')\n",
    "df = pd.merge(dfm2,df4,on=['year', 'country'], how= 'left')"
   ]
  },
  {
   "cell_type": "code",
   "execution_count": 5,
   "metadata": {},
   "outputs": [
    {
     "data": {
      "text/html": [
       "<div>\n",
       "<style scoped>\n",
       "    .dataframe tbody tr th:only-of-type {\n",
       "        vertical-align: middle;\n",
       "    }\n",
       "\n",
       "    .dataframe tbody tr th {\n",
       "        vertical-align: top;\n",
       "    }\n",
       "\n",
       "    .dataframe thead th {\n",
       "        text-align: right;\n",
       "    }\n",
       "</style>\n",
       "<table border=\"1\" class=\"dataframe\">\n",
       "  <thead>\n",
       "    <tr style=\"text-align: right;\">\n",
       "      <th></th>\n",
       "      <th>country</th>\n",
       "      <th>year</th>\n",
       "      <th>child_mortality</th>\n",
       "      <th>income</th>\n",
       "      <th>life_expectancy</th>\n",
       "      <th>population</th>\n",
       "    </tr>\n",
       "  </thead>\n",
       "  <tbody>\n",
       "    <tr>\n",
       "      <th>0</th>\n",
       "      <td>Afghanistan</td>\n",
       "      <td>1800</td>\n",
       "      <td>469.0</td>\n",
       "      <td>603.0</td>\n",
       "      <td>28.2</td>\n",
       "      <td>3280000</td>\n",
       "    </tr>\n",
       "    <tr>\n",
       "      <th>1</th>\n",
       "      <td>Albania</td>\n",
       "      <td>1800</td>\n",
       "      <td>375.0</td>\n",
       "      <td>667.0</td>\n",
       "      <td>35.4</td>\n",
       "      <td>400000</td>\n",
       "    </tr>\n",
       "    <tr>\n",
       "      <th>2</th>\n",
       "      <td>Algeria</td>\n",
       "      <td>1800</td>\n",
       "      <td>460.0</td>\n",
       "      <td>715.0</td>\n",
       "      <td>28.8</td>\n",
       "      <td>2500000</td>\n",
       "    </tr>\n",
       "    <tr>\n",
       "      <th>3</th>\n",
       "      <td>Andorra</td>\n",
       "      <td>1800</td>\n",
       "      <td>NaN</td>\n",
       "      <td>1200.0</td>\n",
       "      <td>NaN</td>\n",
       "      <td>2650</td>\n",
       "    </tr>\n",
       "    <tr>\n",
       "      <th>4</th>\n",
       "      <td>Angola</td>\n",
       "      <td>1800</td>\n",
       "      <td>486.0</td>\n",
       "      <td>618.0</td>\n",
       "      <td>27.0</td>\n",
       "      <td>1570000</td>\n",
       "    </tr>\n",
       "  </tbody>\n",
       "</table>\n",
       "</div>"
      ],
      "text/plain": [
       "       country  year  child_mortality  income  life_expectancy  population\n",
       "0  Afghanistan  1800            469.0   603.0             28.2     3280000\n",
       "1      Albania  1800            375.0   667.0             35.4      400000\n",
       "2      Algeria  1800            460.0   715.0             28.8     2500000\n",
       "3      Andorra  1800              NaN  1200.0              NaN        2650\n",
       "4       Angola  1800            486.0   618.0             27.0     1570000"
      ]
     },
     "execution_count": 5,
     "metadata": {},
     "output_type": "execute_result"
    }
   ],
   "source": [
    "df.head() #checking"
   ]
  },
  {
   "cell_type": "code",
   "execution_count": 6,
   "metadata": {},
   "outputs": [
    {
     "name": "stdout",
     "output_type": "stream",
     "text": [
      "<class 'pandas.core.frame.DataFrame'>\n",
      "Int64Index: 58695 entries, 0 to 58694\n",
      "Data columns (total 6 columns):\n",
      " #   Column           Non-Null Count  Dtype  \n",
      "---  ------           --------------  -----  \n",
      " 0   country          58695 non-null  object \n",
      " 1   year             58695 non-null  object \n",
      " 2   child_mortality  57045 non-null  float64\n",
      " 3   income           46513 non-null  float64\n",
      " 4   life_expectancy  55528 non-null  float64\n",
      " 5   population       58695 non-null  int64  \n",
      "dtypes: float64(3), int64(1), object(2)\n",
      "memory usage: 3.1+ MB\n"
     ]
    }
   ],
   "source": [
    "# Getting the dataset information  \n",
    "df.info()"
   ]
  },
  {
   "cell_type": "markdown",
   "metadata": {},
   "source": [
    "Data has 58695  rows and 4 columns, child mortality represnets dead childs below age 5 per 1.000 births so it should be converted into intg. "
   ]
  },
  {
   "cell_type": "code",
   "execution_count": 7,
   "metadata": {},
   "outputs": [
    {
     "data": {
      "text/plain": [
       "country                0\n",
       "year                   0\n",
       "child_mortality     1650\n",
       "income             12182\n",
       "life_expectancy     3167\n",
       "population             0\n",
       "dtype: int64"
      ]
     },
     "execution_count": 7,
     "metadata": {},
     "output_type": "execute_result"
    }
   ],
   "source": [
    "# Checking for null values and duplicates\n",
    "df.isnull().sum()"
   ]
  },
  {
   "cell_type": "markdown",
   "metadata": {},
   "source": [
    "Data has alot of null values that shouldn't be dropped because number of countries will be decreased from 195 to 187! It is better to fill nun values with zeros."
   ]
  },
  {
   "cell_type": "code",
   "execution_count": 8,
   "metadata": {
    "scrolled": true
   },
   "outputs": [],
   "source": [
    "# Dealing with null values \n",
    "df = df.fillna(df.mean())"
   ]
  },
  {
   "cell_type": "code",
   "execution_count": 9,
   "metadata": {
    "scrolled": true
   },
   "outputs": [
    {
     "data": {
      "text/plain": [
       "country            0\n",
       "year               0\n",
       "child_mortality    0\n",
       "income             0\n",
       "life_expectancy    0\n",
       "population         0\n",
       "dtype: int64"
      ]
     },
     "execution_count": 9,
     "metadata": {},
     "output_type": "execute_result"
    }
   ],
   "source": [
    "# Checking\n",
    "df.isnull().sum()"
   ]
  },
  {
   "cell_type": "code",
   "execution_count": 10,
   "metadata": {},
   "outputs": [],
   "source": [
    "# Changing the type of the child mortality column data into intg\n",
    "df.child_mortality=df.child_mortality.astype(int)"
   ]
  },
  {
   "cell_type": "code",
   "execution_count": 11,
   "metadata": {},
   "outputs": [
    {
     "name": "stdout",
     "output_type": "stream",
     "text": [
      "<class 'pandas.core.frame.DataFrame'>\n",
      "Int64Index: 58695 entries, 0 to 58694\n",
      "Data columns (total 6 columns):\n",
      " #   Column           Non-Null Count  Dtype  \n",
      "---  ------           --------------  -----  \n",
      " 0   country          58695 non-null  object \n",
      " 1   year             58695 non-null  object \n",
      " 2   child_mortality  58695 non-null  int32  \n",
      " 3   income           58695 non-null  float64\n",
      " 4   life_expectancy  58695 non-null  float64\n",
      " 5   population       58695 non-null  int64  \n",
      "dtypes: float64(2), int32(1), int64(1), object(2)\n",
      "memory usage: 2.9+ MB\n"
     ]
    }
   ],
   "source": [
    "# Checking \n",
    "df.info()"
   ]
  },
  {
   "cell_type": "code",
   "execution_count": 12,
   "metadata": {},
   "outputs": [
    {
     "data": {
      "text/plain": [
       "0"
      ]
     },
     "execution_count": 12,
     "metadata": {},
     "output_type": "execute_result"
    }
   ],
   "source": [
    "# Checking for duplicate rows\n",
    "df.duplicated().sum()"
   ]
  },
  {
   "cell_type": "markdown",
   "metadata": {},
   "source": [
    "It is clear that data has no toataly duplicate rows"
   ]
  },
  {
   "cell_type": "code",
   "execution_count": 13,
   "metadata": {
    "scrolled": false
   },
   "outputs": [
    {
     "data": {
      "text/html": [
       "<div>\n",
       "<style scoped>\n",
       "    .dataframe tbody tr th:only-of-type {\n",
       "        vertical-align: middle;\n",
       "    }\n",
       "\n",
       "    .dataframe tbody tr th {\n",
       "        vertical-align: top;\n",
       "    }\n",
       "\n",
       "    .dataframe thead th {\n",
       "        text-align: right;\n",
       "    }\n",
       "</style>\n",
       "<table border=\"1\" class=\"dataframe\">\n",
       "  <thead>\n",
       "    <tr style=\"text-align: right;\">\n",
       "      <th></th>\n",
       "      <th>child_mortality</th>\n",
       "      <th>income</th>\n",
       "      <th>life_expectancy</th>\n",
       "      <th>population</th>\n",
       "    </tr>\n",
       "  </thead>\n",
       "  <tbody>\n",
       "    <tr>\n",
       "      <th>count</th>\n",
       "      <td>58695.000000</td>\n",
       "      <td>58695.000000</td>\n",
       "      <td>58695.000000</td>\n",
       "      <td>5.869500e+04</td>\n",
       "    </tr>\n",
       "    <tr>\n",
       "      <th>mean</th>\n",
       "      <td>209.415436</td>\n",
       "      <td>6428.630340</td>\n",
       "      <td>53.036046</td>\n",
       "      <td>2.328525e+07</td>\n",
       "    </tr>\n",
       "    <tr>\n",
       "      <th>std</th>\n",
       "      <td>182.800302</td>\n",
       "      <td>11886.813967</td>\n",
       "      <td>21.074137</td>\n",
       "      <td>1.007173e+08</td>\n",
       "    </tr>\n",
       "    <tr>\n",
       "      <th>min</th>\n",
       "      <td>0.000000</td>\n",
       "      <td>245.000000</td>\n",
       "      <td>1.010000</td>\n",
       "      <td>6.450000e+02</td>\n",
       "    </tr>\n",
       "    <tr>\n",
       "      <th>25%</th>\n",
       "      <td>17.000000</td>\n",
       "      <td>1050.000000</td>\n",
       "      <td>32.600000</td>\n",
       "      <td>4.220000e+05</td>\n",
       "    </tr>\n",
       "    <tr>\n",
       "      <th>50%</th>\n",
       "      <td>200.000000</td>\n",
       "      <td>2730.000000</td>\n",
       "      <td>53.036046</td>\n",
       "      <td>2.610000e+06</td>\n",
       "    </tr>\n",
       "    <tr>\n",
       "      <th>75%</th>\n",
       "      <td>400.500000</td>\n",
       "      <td>6428.630340</td>\n",
       "      <td>73.500000</td>\n",
       "      <td>1.080000e+07</td>\n",
       "    </tr>\n",
       "    <tr>\n",
       "      <th>max</th>\n",
       "      <td>756.000000</td>\n",
       "      <td>179000.000000</td>\n",
       "      <td>94.800000</td>\n",
       "      <td>1.650000e+09</td>\n",
       "    </tr>\n",
       "  </tbody>\n",
       "</table>\n",
       "</div>"
      ],
      "text/plain": [
       "       child_mortality         income  life_expectancy    population\n",
       "count     58695.000000   58695.000000     58695.000000  5.869500e+04\n",
       "mean        209.415436    6428.630340        53.036046  2.328525e+07\n",
       "std         182.800302   11886.813967        21.074137  1.007173e+08\n",
       "min           0.000000     245.000000         1.010000  6.450000e+02\n",
       "25%          17.000000    1050.000000        32.600000  4.220000e+05\n",
       "50%         200.000000    2730.000000        53.036046  2.610000e+06\n",
       "75%         400.500000    6428.630340        73.500000  1.080000e+07\n",
       "max         756.000000  179000.000000        94.800000  1.650000e+09"
      ]
     },
     "execution_count": 13,
     "metadata": {},
     "output_type": "execute_result"
    }
   ],
   "source": [
    "# Getting some statistical info\n",
    "df.describe()"
   ]
  },
  {
   "cell_type": "code",
   "execution_count": 14,
   "metadata": {
    "scrolled": true
   },
   "outputs": [
    {
     "data": {
      "image/png": "[encoded data removed]",
      "text/plain": [
       "<Figure size 720x576 with 4 Axes>"
      ]
     },
     "metadata": {},
     "output_type": "display_data"
    }
   ],
   "source": [
    "# Visulizing data \n",
    "df.hist(figsize= (10,8));"
   ]
  },
  {
   "cell_type": "markdown",
   "metadata": {},
   "source": [
    "There is no outliers "
   ]
  },
  {
   "cell_type": "code",
   "execution_count": 15,
   "metadata": {
    "scrolled": true
   },
   "outputs": [
    {
     "data": {
      "text/html": [
       "<div>\n",
       "<style scoped>\n",
       "    .dataframe tbody tr th:only-of-type {\n",
       "        vertical-align: middle;\n",
       "    }\n",
       "\n",
       "    .dataframe tbody tr th {\n",
       "        vertical-align: top;\n",
       "    }\n",
       "\n",
       "    .dataframe thead th {\n",
       "        text-align: right;\n",
       "    }\n",
       "</style>\n",
       "<table border=\"1\" class=\"dataframe\">\n",
       "  <thead>\n",
       "    <tr style=\"text-align: right;\">\n",
       "      <th></th>\n",
       "      <th>child_mortality</th>\n",
       "      <th>income</th>\n",
       "      <th>life_expectancy</th>\n",
       "      <th>population</th>\n",
       "    </tr>\n",
       "  </thead>\n",
       "  <tbody>\n",
       "    <tr>\n",
       "      <th>child_mortality</th>\n",
       "      <td>1.000000</td>\n",
       "      <td>-0.436589</td>\n",
       "      <td>-0.942181</td>\n",
       "      <td>-0.149972</td>\n",
       "    </tr>\n",
       "    <tr>\n",
       "      <th>income</th>\n",
       "      <td>-0.436589</td>\n",
       "      <td>1.000000</td>\n",
       "      <td>0.434868</td>\n",
       "      <td>0.037429</td>\n",
       "    </tr>\n",
       "    <tr>\n",
       "      <th>life_expectancy</th>\n",
       "      <td>-0.942181</td>\n",
       "      <td>0.434868</td>\n",
       "      <td>1.000000</td>\n",
       "      <td>0.167494</td>\n",
       "    </tr>\n",
       "    <tr>\n",
       "      <th>population</th>\n",
       "      <td>-0.149972</td>\n",
       "      <td>0.037429</td>\n",
       "      <td>0.167494</td>\n",
       "      <td>1.000000</td>\n",
       "    </tr>\n",
       "  </tbody>\n",
       "</table>\n",
       "</div>"
      ],
      "text/plain": [
       "                 child_mortality    income  life_expectancy  population\n",
       "child_mortality         1.000000 -0.436589        -0.942181   -0.149972\n",
       "income                 -0.436589  1.000000         0.434868    0.037429\n",
       "life_expectancy        -0.942181  0.434868         1.000000    0.167494\n",
       "population             -0.149972  0.037429         0.167494    1.000000"
      ]
     },
     "execution_count": 15,
     "metadata": {},
     "output_type": "execute_result"
    }
   ],
   "source": [
    "# Correlation \n",
    "df.corr()"
   ]
  },
  {
   "cell_type": "markdown",
   "metadata": {},
   "source": [
    "It seems that there is a correlation between income/life expectancy and child mortality (inverse relation)."
   ]
  },
  {
   "cell_type": "markdown",
   "metadata": {},
   "source": [
    "# Building a machine learning model to predict life expectancy "
   ]
  },
  {
   "cell_type": "code",
   "execution_count": 16,
   "metadata": {},
   "outputs": [],
   "source": [
    "# define features and target \n",
    "y = df['life_expectancy']\n",
    "X = df[['child_mortality', 'income', 'population']]\n",
    "\n",
    "# Import Regressors\n",
    "from sklearn.tree import DecisionTreeRegressor\n",
    "from sklearn.linear_model import LinearRegression, Ridge, Lasso, ElasticNet\n",
    "from sklearn.ensemble import RandomForestRegressor\n",
    "\n",
    "#import pipline \n",
    "from sklearn.pipeline import make_pipeline\n",
    "\n",
    "# Import mean_squared_error as MSE\n",
    "from sklearn.metrics import mean_squared_error as MSE\n",
    "\n",
    "# Import train_test_split\n",
    "from sklearn.model_selection import train_test_split\n",
    "# Split data into 80% train and 20% test\n",
    "X_train, X_test, y_train, y_test= train_test_split(X, y,\n",
    "test_size=0.2,\n",
    "random_state=3)"
   ]
  },
  {
   "cell_type": "code",
   "execution_count": 17,
   "metadata": {
    "scrolled": true
   },
   "outputs": [],
   "source": [
    "# Instantiate regressors \n",
    "dt = DecisionTreeRegressor()\n",
    "reg = LinearRegression()\n",
    "ridge = Ridge()\n",
    "lasso = Lasso()\n",
    "elastic = ElasticNet()\n",
    "rf = RandomForestRegressor()\n",
    "\n",
    "Regressors = [('Linear Regression', reg),\n",
    "('Decision Tree', dt),\n",
    "('Ridge', ridge),\n",
    "('Lasso', lasso), \n",
    "('Elastic',elastic),\n",
    "('Random Forest',rf)]"
   ]
  },
  {
   "cell_type": "code",
   "execution_count": 20,
   "metadata": {
    "scrolled": true
   },
   "outputs": [
    {
     "name": "stdout",
     "output_type": "stream",
     "text": [
      "Linear Regression : 6.922\n",
      "Decision Tree : 3.408\n",
      "Ridge : 6.922\n",
      "Lasso : 6.922\n",
      "Elastic : 6.922\n",
      "Random Forest : 2.497\n"
     ]
    }
   ],
   "source": [
    "for reg_name, reg in Regressors:\n",
    "    #fit reg to the training set\n",
    "    reg.fit(X_train, y_train)\n",
    "    # Predict the labels of the test set\n",
    "    y_pred = reg.predict(X_test)\n",
    "    # Evaluate the test-set RMSE of reg on the test set\n",
    "    print('{:s} : {:.3f}'.format(reg_name, MSE(y_test, y_pred)**.5))"
   ]
  },
  {
   "cell_type": "markdown",
   "metadata": {},
   "source": [
    "## Building a tuned Decision Tree model to predict life expectancy "
   ]
  },
  {
   "cell_type": "code",
   "execution_count": 23,
   "metadata": {},
   "outputs": [
    {
     "name": "stdout",
     "output_type": "stream",
     "text": [
      "3.1038738979845633\n"
     ]
    }
   ],
   "source": [
    "from sklearn.model_selection import RandomizedSearchCV\n",
    "param_dist = {\"max_depth\": [3, None],\n",
    "              \"max_features\": np.arange(1, 3),\n",
    "              \"min_samples_leaf\": np.arange(1, 9)}\n",
    "\n",
    "# Instantiate a Decision Tree classifier: tree\n",
    "tree = DecisionTreeRegressor(random_state= 3)\n",
    "# Instantiate the RandomizedSearchCV object: tree_cv\n",
    "tree_cv = RandomizedSearchCV(tree, param_dist, cv=5)\n",
    "\n",
    "# Instantiate the pipline\n",
    "pl = make_pipeline(tree_cv)\n",
    "# Fit 'pl' to the training-set\n",
    "pl.fit(X_train, y_train)\n",
    "# Predict test-set labels\n",
    "y_pred = pl.predict(X_test)\n",
    "# Compute test-set RMSE\n",
    "rmse_pl = MSE(y_test, y_pred)**.5\n",
    "print(rmse_pl)"
   ]
  },
  {
   "cell_type": "markdown",
   "metadata": {},
   "source": [
    "## Building a VotingRegressor model to predict life expectancy "
   ]
  },
  {
   "cell_type": "code",
   "execution_count": 22,
   "metadata": {},
   "outputs": [
    {
     "name": "stdout",
     "output_type": "stream",
     "text": [
      "4.969262401479132\n"
     ]
    }
   ],
   "source": [
    "#import the voting regressor \n",
    "from sklearn.ensemble import VotingRegressor\n",
    "vc = VotingRegressor(estimators=Regressors)\n",
    "\n",
    "#instantiate a pipeline \n",
    "pl = make_pipeline(vc)\n",
    "\n",
    "# Fit 'pl' to the training-set\n",
    "pl.fit(X_train, y_train)\n",
    "# Predict test-set labels\n",
    "y_pred = pl.predict(X_test)\n",
    "# Compute test-set RMSE\n",
    "rmse_pl = MSE(y_test, y_pred)**.5\n",
    "print(rmse_pl)"
   ]
  },
  {
   "cell_type": "markdown",
   "metadata": {},
   "source": [
    "## Building a RandomForestRegressor model to predict life expectancy "
   ]
  },
  {
   "cell_type": "code",
   "execution_count": 27,
   "metadata": {},
   "outputs": [
    {
     "name": "stdout",
     "output_type": "stream",
     "text": [
      "2.5078964685897756\n"
     ]
    }
   ],
   "source": [
    "# Instantiate a random forests regressor 'rf' \n",
    "rf = RandomForestRegressor(random_state= 3)\n",
    "\n",
    "# Instantiate a pipeline \n",
    "pl = make_pipeline(rf)\n",
    "# Fit 'pl' to the training-set\n",
    "pl.fit(X_train, y_train)\n",
    "# Predict test-set labels\n",
    "y_pred = pl.predict(X_test)\n",
    "# Compute test-set RMSE\n",
    "rmse_pl = MSE(y_test, y_pred)**.5\n",
    "print(rmse_pl)"
   ]
  },
  {
   "cell_type": "code",
   "execution_count": 131,
   "metadata": {
    "scrolled": true
   },
   "outputs": [
    {
     "data": {
      "image/png": "[encoded data removed]",
      "text/plain": [
       "<Figure size 432x288 with 1 Axes>"
      ]
     },
     "metadata": {},
     "output_type": "display_data"
    }
   ],
   "source": [
    "# Create a pd.Series of features importances\n",
    "importances_rf = pd.Series(rf.feature_importances_, index = X.columns)\n",
    "# Sort importances_rf\n",
    "sorted_importances_rf = importances_rf.sort_values()\n",
    "# Make a horizontal bar plot\n",
    "sorted_importances_rf.plot(kind='barh', color='lightgreen'); plt.show()"
   ]
  },
  {
   "cell_type": "markdown",
   "metadata": {},
   "source": [
    "## Building a BaggingRegressor model to predict life expectancy "
   ]
  },
  {
   "cell_type": "code",
   "execution_count": 72,
   "metadata": {},
   "outputs": [],
   "source": [
    "# Imort the BaggingRegressor\n",
    "from sklearn.ensemble import BaggingRegressor\n",
    "# Instantiate a Regrssion-tree 'dt'\n",
    "dt = DecisionTreeRegressor(max_depth=4, min_samples_leaf=0.16, random_state=3)\n",
    "# Instantiate a BaggingRegressor 'br'\n",
    "br = BaggingRegressor(base_estimator=dt, n_estimators=300, n_jobs=-1)\n",
    "\n",
    "# Instantiate a pipeline \n",
    "pl = make_pipeline(br)\n",
    "\n",
    "# Fit 'pl' to the training-set\n",
    "pl.fit(X_train, y_train)\n",
    "# Predict test-set labels\n",
    "y_pred = pl.predict(X_test)\n",
    "# Compute test-set RMSE\n",
    "rmse_pl = MSE(y_test, y_pred)**.5\n",
    "print(rmse_pl)"
   ]
  },
  {
   "cell_type": "markdown",
   "metadata": {},
   "source": [
    "## AdaBoost and GradientBoosting Regressors"
   ]
  },
  {
   "cell_type": "code",
   "execution_count": 128,
   "metadata": {},
   "outputs": [
    {
     "name": "stdout",
     "output_type": "stream",
     "text": [
      "9.045225987049681\n"
     ]
    }
   ],
   "source": [
    "from sklearn.ensemble import  AdaBoostRegressor\n",
    "dt = DecisionTreeRegressor(max_depth=1, random_state=3)\n",
    "adb_reg = AdaBoostRegressor(base_estimator=dt, n_estimators=100)\n",
    "\n",
    "pl = make_pipeline(adb_reg)\n",
    "\n",
    "# Fit 'pl' to the training-set\n",
    "pl.fit(X_train, y_train)\n",
    "# Predict test-set labels\n",
    "y_pred = pl.predict(X_test)\n",
    "# Compute test-set RMSE\n",
    "rmse_pl = MSE(y_test, y_pred)**.5\n",
    "print(rmse_pl)"
   ]
  },
  {
   "cell_type": "code",
   "execution_count": 129,
   "metadata": {},
   "outputs": [
    {
     "name": "stdout",
     "output_type": "stream",
     "text": [
      "4.61178115456449\n"
     ]
    }
   ],
   "source": [
    "from sklearn.ensemble import  GradientBoostingRegressor\n",
    "gbr = GradientBoostingRegressor(n_estimators=300, max_depth=1, random_state=3)\n",
    "\n",
    "pl = make_pipeline(gbr)\n",
    "\n",
    "# Fit 'pl' to the training-set\n",
    "pl.fit(X_train, y_train)\n",
    "# Predict test-set labels\n",
    "y_pred = pl.predict(X_test)\n",
    "# Compute test-set RMSE\n",
    "rmse_pl = MSE(y_test, y_pred)**.5\n",
    "print(rmse_pl)"
   ]
  },
  {
   "cell_type": "markdown",
   "metadata": {},
   "source": [
    "# Conclusions "
   ]
  },
  {
   "cell_type": "markdown",
   "metadata": {},
   "source": [
    "### After training more than a regression model, random forest had the lowest rmse, and child_mortality is the feature that has the mose effect on life expectancy. It is recommended use that  model in predictions."
   ]
  }
 ],
 "metadata": {
  "kernelspec": {
   "display_name": "Python 3",
   "language": "python",
   "name": "python3"
  },
  "language_info": {
   "codemirror_mode": {
    "name": "ipython",
    "version": 3
   },
   "file_extension": ".py",
   "mimetype": "text/x-python",
   "name": "python",
   "nbconvert_exporter": "python",
   "pygments_lexer": "ipython3",
   "version": "3.8.5"
  }
 },
 "nbformat": 4,
 "nbformat_minor": 2
}
